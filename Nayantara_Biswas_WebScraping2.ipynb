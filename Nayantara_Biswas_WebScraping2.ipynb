{
  "nbformat": 4,
  "nbformat_minor": 0,
  "metadata": {
    "colab": {
      "name": "Untitled18.ipynb",
      "provenance": []
    },
    "kernelspec": {
      "name": "python3",
      "display_name": "Python 3"
    },
    "language_info": {
      "name": "python"
    }
  },
  "cells": [
    {
      "cell_type": "code",
      "metadata": {
        "colab": {
          "base_uri": "https://localhost:8080/"
        },
        "id": "3D2bJ_WafEXj",
        "outputId": "5b7c2358-eee7-47df-e899-38f353413678"
      },
      "source": [
        "#Name: Nayantara Biswas\n",
        "#Date: 04/02/2021\n",
        "#Assignment: Web-Scarping 2\n",
        "#Input: URL: http://books.toscrape.com/\n",
        "#Output: List of books with one-star rating in the first 5 pages of the website\n",
        "\n",
        "# install libraries\n",
        "!pip install requests\n",
        "!pip install lxml\n",
        "!pip install bs4\n",
        "\n",
        "# import libraries\n",
        "import requests\n",
        "import bs4\n",
        "\n",
        "# Initiate an empty list that will hold the output.\n",
        "one_star_titles = []\n",
        "\n",
        "# Now iterate to get info from each page.\n",
        "# We want to include page 5, so index should go up to, but not include 6,\n",
        "for n in range (1,6):\n",
        "  base_url = \"http://books.toscrape.com/catalogue/page-{}.html\" #Create base url\n",
        "  scrape_url = base_url.format(n) #Test base url\n",
        "  res = requests.get(scrape_url) # Make request\n",
        "  soup = bs4.BeautifulSoup(res.text,'lxml') # Create soup\n",
        "  books = soup.select(\".product_pod\") # Select the product pod class and get pod\n",
        "  # within the loop, we create another loop to parse the books and select star rating one.\n",
        "  for book in books:\n",
        "    if len(book.select('.star-rating.One')) != 0: # if the list is not empty, then we do have a 1 star book. Could also use if 'star-rating One' in str(book)\n",
        "      book_title = book.select('a')[1]['title']\n",
        "      one_star_titles.append(book_title)\n",
        "# Running this should give us the list\n",
        "one_star_titles"
      ],
      "execution_count": 2,
      "outputs": [
        {
          "output_type": "stream",
          "text": [
            "Requirement already satisfied: requests in /usr/local/lib/python3.7/dist-packages (2.23.0)\n",
            "Requirement already satisfied: urllib3!=1.25.0,!=1.25.1,<1.26,>=1.21.1 in /usr/local/lib/python3.7/dist-packages (from requests) (1.24.3)\n",
            "Requirement already satisfied: chardet<4,>=3.0.2 in /usr/local/lib/python3.7/dist-packages (from requests) (3.0.4)\n",
            "Requirement already satisfied: certifi>=2017.4.17 in /usr/local/lib/python3.7/dist-packages (from requests) (2020.12.5)\n",
            "Requirement already satisfied: idna<3,>=2.5 in /usr/local/lib/python3.7/dist-packages (from requests) (2.10)\n",
            "Requirement already satisfied: lxml in /usr/local/lib/python3.7/dist-packages (4.2.6)\n",
            "Requirement already satisfied: bs4 in /usr/local/lib/python3.7/dist-packages (0.0.1)\n",
            "Requirement already satisfied: beautifulsoup4 in /usr/local/lib/python3.7/dist-packages (from bs4) (4.6.3)\n"
          ],
          "name": "stdout"
        },
        {
          "output_type": "execute_result",
          "data": {
            "text/plain": [
              "['Tipping the Velvet',\n",
              " 'Soumission',\n",
              " 'The Requiem Red',\n",
              " 'The Black Maria',\n",
              " 'Olio',\n",
              " 'Mesaerion: The Best Science Fiction Stories 1800-1849',\n",
              " 'In Her Wake',\n",
              " 'The Bear and the Piano',\n",
              " 'In a Dark, Dark Wood',\n",
              " 'When We Collided',\n",
              " 'Unbound: How Eight Technologies Made Us Human, Transformed Society, and Brought Our World to the Brink',\n",
              " 'Tsubasa: WoRLD CHRoNiCLE 2 (Tsubasa WoRLD CHRoNiCLE #2)',\n",
              " 'The Torch Is Passed: A Harding Family Story',\n",
              " 'The Secret of Dreadwillow Carse',\n",
              " 'The Pioneer Woman Cooks: Dinnertime: Comfort Classics, Freezer Food, 16-Minute Meals, and Other Delicious Ways to Solve Supper!',\n",
              " 'The Gutsy Girl: Escapades for Your Life of Epic Adventure',\n",
              " 'The Electric Pencil: Drawings from Inside State Hospital No. 3',\n",
              " 'The Age of Genius: The Seventeenth Century and the Birth of the Modern Mind',\n",
              " 'Pop Gun War, Volume 1: Gift',\n",
              " 'orange: The Complete Collection 1 (orange: The Complete Collection #1)',\n",
              " 'Online Marketing for Busy Authors: A Step-By-Step Guide',\n",
              " 'Layered: Baking, Building, and Styling Spectacular Cakes']"
            ]
          },
          "metadata": {
            "tags": []
          },
          "execution_count": 2
        }
      ]
    }
  ]
}